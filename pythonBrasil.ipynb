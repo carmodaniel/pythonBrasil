{
 "cells": [
  {
   "cell_type": "markdown",
   "metadata": {},
   "source": [
    "##  Estrutura Sequencial ##"
   ]
  },
  {
   "cell_type": "code",
   "execution_count": 4,
   "metadata": {},
   "outputs": [
    {
     "name": "stdout",
     "output_type": "stream",
     "text": [
      "ola Mundo\n"
     ]
    }
   ],
   "source": [
    "# 1 - Faça um Programa que mostre a mensagem \"Alo mundo\" na tela\n",
    "print('ola Mundo')"
   ]
  },
  {
   "cell_type": "code",
   "execution_count": 5,
   "metadata": {},
   "outputs": [
    {
     "ename": "ValueError",
     "evalue": "invalid literal for int() with base 10: ''",
     "output_type": "error",
     "traceback": [
      "\u001b[1;31m---------------------------------------------------------------------------\u001b[0m",
      "\u001b[1;31mValueError\u001b[0m                                Traceback (most recent call last)",
      "\u001b[1;32mg:\\Meu Drive\\PythonBrasil\\pythonBrasil\\pythonBrasil.ipynb Célula: 3\u001b[0m in \u001b[0;36m<cell line: 2>\u001b[1;34m()\u001b[0m\n\u001b[0;32m      <a href='vscode-notebook-cell:/g%3A/Meu%20Drive/PythonBrasil/pythonBrasil/pythonBrasil.ipynb#W2sZmlsZQ%3D%3D?line=0'>1</a>\u001b[0m \u001b[39m# 2 - Faça um Programa que peça um número e então mostre a mensagem O número informado foi [número].\u001b[39;00m\n\u001b[1;32m----> <a href='vscode-notebook-cell:/g%3A/Meu%20Drive/PythonBrasil/pythonBrasil/pythonBrasil.ipynb#W2sZmlsZQ%3D%3D?line=1'>2</a>\u001b[0m num \u001b[39m=\u001b[39m \u001b[39mint\u001b[39;49m(\u001b[39minput\u001b[39;49m(\u001b[39m'\u001b[39;49m\u001b[39mPor favor Digite um Número\u001b[39;49m\u001b[39m'\u001b[39;49m))\n\u001b[0;32m      <a href='vscode-notebook-cell:/g%3A/Meu%20Drive/PythonBrasil/pythonBrasil/pythonBrasil.ipynb#W2sZmlsZQ%3D%3D?line=2'>3</a>\u001b[0m \u001b[39mprint\u001b[39m(\u001b[39mf\u001b[39m\u001b[39m'\u001b[39m\u001b[39mO número digita foi \u001b[39m\u001b[39m{\u001b[39;00mnum\u001b[39m}\u001b[39;00m\u001b[39m'\u001b[39m)\n",
      "\u001b[1;31mValueError\u001b[0m: invalid literal for int() with base 10: ''"
     ]
    }
   ],
   "source": [
    "# 2 - Faça um Programa que peça um número e então mostre a mensagem O número informado foi [número].\n",
    "num = int(input('Por favor Digite um Número'))\n",
    "print(f'O número digita foi {num}')"
   ]
  },
  {
   "cell_type": "code",
   "execution_count": null,
   "metadata": {},
   "outputs": [
    {
     "name": "stdout",
     "output_type": "stream",
     "text": [
      "a soma de 2 + 2 é 4\n"
     ]
    }
   ],
   "source": [
    "# 3 - Faça um Programa que peça dois números e imprima a soma.\n",
    "num1 = int(input('Por favor Digite um Número'))\n",
    "num2 = int(input('Por favor Digite um Número'))\n",
    "soma = num1 + num2\n",
    "print(f'a soma de {num1} + {num2} é {soma}' )"
   ]
  },
  {
   "cell_type": "code",
   "execution_count": null,
   "metadata": {},
   "outputs": [
    {
     "name": "stdout",
     "output_type": "stream",
     "text": [
      "Nota 1º Bimestre = 2.0\n",
      "Nota 2º Bimestre = 2.0\n",
      "Nota 3º Bimestre = 2.0\n",
      "Nota 4º Bimestre = 2.0\n",
      "A média das notas é = 2.0\n"
     ]
    }
   ],
   "source": [
    "# 4 - Faça um Programa que peça as 4 notas bimestrais e mostre a média.\n",
    "nota = float(input('Digite a nota do 1º Bimestre'))\n",
    "nota1 = float(input('Digite a nota do 2º Bimestre'))\n",
    "nota2 = float(input('Digite a nota do 3º Bimestre'))\n",
    "nota3 = float(input('Digite a nota do 4º Bimestre'))\n",
    "\n",
    "media = (nota + nota1 + nota2 + nota3 ) / 4\n",
    "\n",
    "print(f'Nota 1º Bimestre = {nota}')\n",
    "print(f'Nota 2º Bimestre = {nota1}')\n",
    "print(f'Nota 3º Bimestre = {nota2}')\n",
    "print(f'Nota 4º Bimestre = {nota3}')\n",
    "print(f'A média das notas é = {media}')"
   ]
  },
  {
   "cell_type": "code",
   "execution_count": 3,
   "metadata": {},
   "outputs": [
    {
     "name": "stdout",
     "output_type": "stream",
     "text": [
      "1.0 metro(s), possui 100.0 centímetros \n"
     ]
    }
   ],
   "source": [
    "# 5 - Faça um Programa que converta metros para centímetros.\n",
    "\n",
    "metros  = float(input('Digite a Quantida de Metros'))\n",
    "\n",
    "calc = metros * 100\n",
    "print(f'{metros} metro(s), possui {calc} centímetros ')\n",
    "\n",
    "\n",
    "\n",
    "\n"
   ]
  },
  {
   "cell_type": "code",
   "execution_count": 6,
   "metadata": {},
   "outputs": [
    {
     "name": "stdout",
     "output_type": "stream",
     "text": [
      "a área do cículo é 12.56\n"
     ]
    }
   ],
   "source": [
    "# 6 - Faça um Programa que peça o raio de um círculo, calcule e mostre sua área.\n",
    "raio = float(input('Digite o raio do Cículo: '))\n",
    "area  = 3.14 * (raio ** 2)\n",
    "print(f'a área do cículo é {area}')"
   ]
  }
 ],
 "metadata": {
  "kernelspec": {
   "display_name": "Python 3 (ipykernel)",
   "language": "python",
   "name": "python3"
  },
  "language_info": {
   "codemirror_mode": {
    "name": "ipython",
    "version": 3
   },
   "file_extension": ".py",
   "mimetype": "text/x-python",
   "name": "python",
   "nbconvert_exporter": "python",
   "pygments_lexer": "ipython3",
   "version": "3.10.6"
  },
  "orig_nbformat": 4,
  "vscode": {
   "interpreter": {
    "hash": "ebfd36cd5a8606b093d1e6b4df4a63846a0a36ca4bec62699d289f325ed522ba"
   }
  }
 },
 "nbformat": 4,
 "nbformat_minor": 2
}
